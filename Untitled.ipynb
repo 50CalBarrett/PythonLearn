{
 "cells": [
  {
   "cell_type": "code",
   "execution_count": null,
   "id": "4323218b-29f9-452e-9c75-84ae5455c249",
   "metadata": {},
   "outputs": [],
   "source": [
    "import pandas as pd\n",
    "import numpy as np\n",
    "\n",
    "with open(\"example\",r)asFile1:\n",
    "\tfile_stuff = File1.read()\n",
    "\tprint(file_stuff)\n",
    "\tprint(File1.closed)\n",
    "\tprint(file_stuff)"
   ]
  }
 ],
 "metadata": {
  "kernelspec": {
   "display_name": "Python 3 (ipykernel)",
   "language": "python",
   "name": "python3"
  },
  "language_info": {
   "codemirror_mode": {
    "name": "ipython",
    "version": 3
   },
   "file_extension": ".py",
   "mimetype": "text/x-python",
   "name": "python",
   "nbconvert_exporter": "python",
   "pygments_lexer": "ipython3",
   "version": "3.13.7"
  }
 },
 "nbformat": 4,
 "nbformat_minor": 5
}
