{
 "cells": [
  {
   "cell_type": "markdown",
   "id": "5f87f87e",
   "metadata": {},
   "source": [
    "Problem 1: Simple manipulation and list comprehension."
   ]
  },
  {
   "cell_type": "code",
   "execution_count": 114,
   "id": "45566c6c",
   "metadata": {},
   "outputs": [],
   "source": [
    "Fruits = ['banana','apple','orange','pear','grape','pizza',]"
   ]
  },
  {
   "cell_type": "markdown",
   "id": "cf69384a",
   "metadata": {},
   "source": [
    "Using the code above remove pizza, sort and capitalize each items first letter. Print each fruit on new line and print the popped item after \"<pop> is not a fruit!\" Capitalizing the <pop>."
   ]
  },
  {
   "cell_type": "code",
   "execution_count": 115,
   "id": "a2881d6d",
   "metadata": {},
   "outputs": [
    {
     "name": "stdout",
     "output_type": "stream",
     "text": [
      "APPLE\n",
      "BANANA\n",
      "GRAPE\n",
      "ORANGE\n",
      "PEAR\n",
      "Pizza is not a fruit!\n"
     ]
    }
   ],
   "source": [
    "other = Fruits.pop(-1)\n",
    "Fruits.sort()\n",
    "for f in Fruits: \n",
    "    print(f.upper())\n",
    "print(f'{other.title()} is not a fruit!')"
   ]
  },
  {
   "cell_type": "markdown",
   "id": "d4351090",
   "metadata": {},
   "source": [
    "Problem 2: Using the given code create some code that will wish happy birthday to someone on their birthday. \n"
   ]
  }
 ],
 "metadata": {
  "kernelspec": {
   "display_name": "Python 3",
   "language": "python",
   "name": "python3"
  },
  "language_info": {
   "codemirror_mode": {
    "name": "ipython",
    "version": 3
   },
   "file_extension": ".py",
   "mimetype": "text/x-python",
   "name": "python",
   "nbconvert_exporter": "python",
   "pygments_lexer": "ipython3",
   "version": "3.14.0"
  }
 },
 "nbformat": 4,
 "nbformat_minor": 5
}
