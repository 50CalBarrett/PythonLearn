{
 "cells": [
  {
   "cell_type": "code",
   "execution_count": 130,
   "id": "43426896",
   "metadata": {},
   "outputs": [
    {
     "name": "stdout",
     "output_type": "stream",
     "text": [
      "Hello, World\n"
     ]
    }
   ],
   "source": [
    "print('Hello, World')"
   ]
  },
  {
   "cell_type": "markdown",
   "id": "e1436a0a",
   "metadata": {},
   "source": [
    "Rules for python variables \n",
    "-must start with a letter or underscore\n",
    "-name cannot start with number\n",
    "-can only containe alphanumeric chars\n",
    "-are case sensitive\n",
    "-cannot be any of the key words"
   ]
  },
  {
   "cell_type": "markdown",
   "id": "f46475b6",
   "metadata": {},
   "source": [
    "import sys \n",
    "print(sys.version)"
   ]
  },
  {
   "cell_type": "markdown",
   "id": "82852b6c",
   "metadata": {},
   "source": [
    "import sys \n",
    "print(sys.version)"
   ]
  },
  {
   "cell_type": "code",
   "execution_count": 131,
   "id": "0eb4c59b",
   "metadata": {},
   "outputs": [
    {
     "name": "stdout",
     "output_type": "stream",
     "text": [
      "3.14.0 (v3.14.0:ebf955df7a8, Oct  7 2025, 08:20:14) [Clang 16.0.0 (clang-1600.0.26.6)]\n"
     ]
    }
   ],
   "source": [
    "import sys \n",
    "print(sys.version)"
   ]
  },
  {
   "cell_type": "markdown",
   "id": "ce238eeb",
   "metadata": {},
   "source": [
    "Python uses indentation to mark the block of code. Like after if where while etc statements"
   ]
  },
  {
   "cell_type": "code",
   "execution_count": 132,
   "id": "eb08a082",
   "metadata": {},
   "outputs": [
    {
     "name": "stdout",
     "output_type": "stream",
     "text": [
      "Five is greater that two.\n"
     ]
    }
   ],
   "source": [
    "if 5 > 2:\n",
    "    print(\"Five is greater that two.\")"
   ]
  },
  {
   "cell_type": "markdown",
   "id": "65783447",
   "metadata": {},
   "source": [
    "Code on the same line uses the seperator ; "
   ]
  },
  {
   "cell_type": "markdown",
   "id": "3a61bae0",
   "metadata": {},
   "source": []
  },
  {
   "cell_type": "code",
   "execution_count": 133,
   "id": "293380b2",
   "metadata": {},
   "outputs": [
    {
     "name": "stdout",
     "output_type": "stream",
     "text": [
      "Python is decent! \n",
      "Py can do alot! \n"
     ]
    }
   ],
   "source": [
    "print(\"Python is decent! \") ; print('Py can do alot! ')"
   ]
  },
  {
   "cell_type": "markdown",
   "id": "be1a11c1",
   "metadata": {},
   "source": [
    "Multiple items on the same line with print statments. using end=''  "
   ]
  },
  {
   "cell_type": "code",
   "execution_count": 134,
   "id": "017588b0",
   "metadata": {},
   "outputs": [
    {
     "name": "stdout",
     "output_type": "stream",
     "text": [
      "This is phrase 1 and this is phase two.\n"
     ]
    }
   ],
   "source": [
    "print(\"This is phrase 1\", end=' ') \n",
    "print('and this is phase two.')"
   ]
  },
  {
   "cell_type": "markdown",
   "id": "4ef8d203",
   "metadata": {},
   "source": [
    "Getting the data type is easy with the type() function  "
   ]
  },
  {
   "cell_type": "code",
   "execution_count": 135,
   "id": "c70893f1",
   "metadata": {},
   "outputs": [
    {
     "name": "stdout",
     "output_type": "stream",
     "text": [
      "<class 'int'>\n",
      "<class 'str'>\n"
     ]
    }
   ],
   "source": [
    "x = 2\n",
    "y = \"3\" \n",
    "\n",
    "print(type(x))\n",
    "print(type(y))"
   ]
  },
  {
   "cell_type": "markdown",
   "id": "cf6a0dac",
   "metadata": {},
   "source": [
    "Global variables are able to be called into fuctions, or by them selves"
   ]
  },
  {
   "cell_type": "code",
   "execution_count": 136,
   "id": "00ed1d5a",
   "metadata": {},
   "outputs": [
    {
     "name": "stdout",
     "output_type": "stream",
     "text": [
      "10\n"
     ]
    }
   ],
   "source": [
    "x = 10\n",
    "def function1(): \n",
    "    print(x)\n",
    "\n",
    "function1()"
   ]
  },
  {
   "cell_type": "code",
   "execution_count": 137,
   "id": "7863bd82",
   "metadata": {},
   "outputs": [
    {
     "name": "stdout",
     "output_type": "stream",
     "text": [
      "Say hi to Steve\n",
      "Say hi to Billy\n"
     ]
    }
   ],
   "source": [
    "x = \"Billy\"\n",
    "\n",
    "def function2():\n",
    "    x = \"Steve\"\n",
    "    print('Say hi to ' + x)\n",
    "function2()\n",
    "print('Say hi to ' + x)"
   ]
  },
  {
   "cell_type": "markdown",
   "id": "701318eb",
   "metadata": {},
   "source": [
    "Use the global before a var to change it inside of a function. "
   ]
  },
  {
   "cell_type": "code",
   "execution_count": 138,
   "id": "b07e06ba",
   "metadata": {},
   "outputs": [
    {
     "name": "stdout",
     "output_type": "stream",
     "text": [
      "Say hi to Steve\n"
     ]
    }
   ],
   "source": [
    "def function3():\n",
    "    global x \n",
    "    x = \"Steve\"\n",
    "\n",
    "function3()\n",
    "print(\"Say hi to \" + x)"
   ]
  },
  {
   "cell_type": "markdown",
   "id": "e7cd8421",
   "metadata": {},
   "source": []
  },
  {
   "cell_type": "code",
   "execution_count": 139,
   "id": "b881868e",
   "metadata": {},
   "outputs": [
    {
     "name": "stdout",
     "output_type": "stream",
     "text": [
      "1.0\n",
      "2\n",
      "(1+0j)\n",
      "<class 'float'>\n",
      "<class 'int'>\n",
      "<class 'complex'>\n"
     ]
    }
   ],
   "source": [
    "x = 1    # int\n",
    "y = 2.8  # float\n",
    "z = 1j   # complex\n",
    "\n",
    "#convert from int to float:\n",
    "a = float(x)\n",
    "\n",
    "#convert from float to int:\n",
    "b = int(y)\n",
    "\n",
    "#convert from int to complex:\n",
    "c = complex(x)\n",
    "\n",
    "print(a)\n",
    "print(b)\n",
    "print(c)\n",
    "\n",
    "print(type(a))\n",
    "print(type(b))\n",
    "print(type(c))"
   ]
  },
  {
   "cell_type": "code",
   "execution_count": 140,
   "id": "de99725a",
   "metadata": {},
   "outputs": [
    {
     "name": "stdout",
     "output_type": "stream",
     "text": [
      "[1, 2, 3, 4, 5, 6, 7, 8]\n"
     ]
    }
   ],
   "source": [
    "# method of adding two lists \n",
    "\n",
    "list1 = [1,2,3,4]\n",
    "list2 = [5,6,7,8]\n",
    "\n",
    "list1.extend(list2)\n",
    "\n",
    "print(list1)"
   ]
  },
  {
   "cell_type": "code",
   "execution_count": 141,
   "id": "b369e363",
   "metadata": {},
   "outputs": [
    {
     "name": "stdout",
     "output_type": "stream",
     "text": [
      "[5, 6, 7, 8]\n"
     ]
    }
   ],
   "source": [
    "print(list2)"
   ]
  },
  {
   "cell_type": "code",
   "execution_count": 142,
   "id": "1b233f3c",
   "metadata": {},
   "outputs": [
    {
     "name": "stdout",
     "output_type": "stream",
     "text": [
      "[1, 2, 3, 4, 5, 6, 7, 8]\n"
     ]
    }
   ],
   "source": [
    "print(list1)    \n"
   ]
  },
  {
   "cell_type": "markdown",
   "id": "45cf66af",
   "metadata": {},
   "source": [
    "list comprehension statments "
   ]
  },
  {
   "cell_type": "code",
   "execution_count": 143,
   "id": "22d2c890",
   "metadata": {},
   "outputs": [
    {
     "name": "stdout",
     "output_type": "stream",
     "text": [
      "1\n",
      "2\n",
      "3\n",
      "4\n",
      "5\n",
      "6\n",
      "7\n",
      "8\n"
     ]
    },
    {
     "data": {
      "text/plain": [
       "[None, None, None, None, None, None, None, None]"
      ]
     },
     "execution_count": 143,
     "metadata": {},
     "output_type": "execute_result"
    }
   ],
   "source": [
    "[print(x) for x in list1]"
   ]
  },
  {
   "cell_type": "code",
   "execution_count": 144,
   "id": "df7d21e2",
   "metadata": {},
   "outputs": [
    {
     "name": "stdout",
     "output_type": "stream",
     "text": [
      "5\n"
     ]
    },
    {
     "data": {
      "text/plain": [
       "[None]"
      ]
     },
     "execution_count": 144,
     "metadata": {},
     "output_type": "execute_result"
    }
   ],
   "source": [
    "[print(x) for x in list1 if x == 5]"
   ]
  },
  {
   "cell_type": "code",
   "execution_count": 145,
   "id": "036175d2",
   "metadata": {},
   "outputs": [],
   "source": [
    "newList = [x for x in list1]"
   ]
  },
  {
   "cell_type": "code",
   "execution_count": 146,
   "id": "7aeca2a1",
   "metadata": {},
   "outputs": [
    {
     "name": "stdout",
     "output_type": "stream",
     "text": [
      "[1, 2, 3, 4, 5, 6, 7, 8]\n"
     ]
    }
   ],
   "source": [
    "print(newList)"
   ]
  },
  {
   "cell_type": "code",
   "execution_count": 147,
   "id": "41ae70de",
   "metadata": {},
   "outputs": [
    {
     "name": "stdout",
     "output_type": "stream",
     "text": [
      "[8, 7, 6, 5, 4, 3, 2, 1]\n"
     ]
    }
   ],
   "source": [
    "# sorting a list backwards \n",
    "\n",
    "newList.sort(reverse = True) #For descending\n",
    "print(newList)\n",
    "# or "
   ]
  },
  {
   "cell_type": "code",
   "execution_count": 148,
   "id": "f26a54bc",
   "metadata": {},
   "outputs": [
    {
     "name": "stdout",
     "output_type": "stream",
     "text": [
      "[1, 2, 3, 4, 5, 6, 7, 8]\n"
     ]
    }
   ],
   "source": [
    "newList.reverse() # reversed \n",
    "print(newList)"
   ]
  },
  {
   "cell_type": "markdown",
   "id": "165c3291",
   "metadata": {},
   "source": [
    "Creating a copy of a list "
   ]
  },
  {
   "cell_type": "code",
   "execution_count": 149,
   "id": "dc66d2a4",
   "metadata": {},
   "outputs": [],
   "source": [
    "list3 = []\n",
    "list1 = list3.copy()"
   ]
  },
  {
   "cell_type": "code",
   "execution_count": 150,
   "id": "8bdb59c3",
   "metadata": {},
   "outputs": [],
   "source": [
    "list4 = []\n",
    "list2 = list(list4)\n",
    "# also copys a list \n",
    "list5 = list1[:]"
   ]
  },
  {
   "cell_type": "markdown",
   "id": "382181b3",
   "metadata": {},
   "source": [
    "To modify a tuple you have to chage it into a list then back to a tuple. \n",
    "\n",
    "deleting a tuple is: del tuplename\n",
    "You can add tuple to tuple\n",
    "\n",
    "for selecting items after index item *indexNum "
   ]
  },
  {
   "cell_type": "code",
   "execution_count": 151,
   "id": "4e842884",
   "metadata": {},
   "outputs": [
    {
     "name": "stdout",
     "output_type": "stream",
     "text": [
      "[2, 3, 4, 5, 6]\n"
     ]
    }
   ],
   "source": [
    "Tuple1 = (1,2,3,4,5,6,7)\n",
    "(x,*y,z) = Tuple1 # x first z last *y everything in between \n",
    "print(y)"
   ]
  },
  {
   "cell_type": "code",
   "execution_count": 152,
   "id": "eb6f1277",
   "metadata": {},
   "outputs": [
    {
     "name": "stdout",
     "output_type": "stream",
     "text": [
      "1\n",
      "2\n",
      "3\n",
      "4\n",
      "5\n",
      "6\n",
      "7\n"
     ]
    }
   ],
   "source": [
    "for x in Tuple1:\n",
    "    print(x)\n"
   ]
  },
  {
   "cell_type": "code",
   "execution_count": 153,
   "id": "55ac7905",
   "metadata": {},
   "outputs": [
    {
     "name": "stdout",
     "output_type": "stream",
     "text": [
      "1\n",
      "2\n",
      "3\n",
      "4\n",
      "5\n",
      "6\n",
      "7\n"
     ]
    }
   ],
   "source": [
    "i = 0\n",
    "while i < len(Tuple1):\n",
    "    print(Tuple1[i])\n",
    "    i += 1  "
   ]
  },
  {
   "cell_type": "code",
   "execution_count": 154,
   "id": "7b448e9c",
   "metadata": {},
   "outputs": [
    {
     "name": "stdout",
     "output_type": "stream",
     "text": [
      "1\n",
      "2\n",
      "3\n",
      "4\n",
      "5\n",
      "6\n",
      "7\n"
     ]
    }
   ],
   "source": [
    "for i in range(len(Tuple1)):\n",
    "    print(Tuple1[i])"
   ]
  },
  {
   "cell_type": "markdown",
   "id": "bc6cb258",
   "metadata": {},
   "source": [
    "Set items can be removed but cannot contain doubles\n",
    "You cannot access set items by the index\n",
    "Sets are unordered so when you loop through them they will be totally random. \n",
    "adding items to a set: set.add(item)\n",
    "\n",
    "you can update sets with: set.update(list)\n",
    "\n",
    "to remove and item from a set: set.remove(item)\n",
    "\n",
    "to discard and item from a set: set.discard(item)\n",
    "\n",
    "joining sets together: set3 = set1.union(set2) \n",
    "\n",
    "joiing multiple sets together at onces: set5 = set1| set2 | set3 | set4\n",
    "\n",
    "using intersection method on a set only keets the difference: set1.intersection(set2)"
   ]
  },
  {
   "cell_type": "code",
   "execution_count": 155,
   "id": "93cb57d2",
   "metadata": {},
   "outputs": [
    {
     "name": "stdout",
     "output_type": "stream",
     "text": [
      "<class 'set'>\n"
     ]
    }
   ],
   "source": [
    "set1 = set((1,2,3,4,5,6,7,8,9,10)) #this is how to make a set \n",
    "print(type(set1))"
   ]
  },
  {
   "cell_type": "markdown",
   "id": "e76bab23",
   "metadata": {},
   "source": [
    "There are four collection data types in the Python programming language:\n",
    "\n",
    "List is a collection which is ordered and changeable. Allows duplicate members.\n",
    "Tuple is a collection which is ordered and unchangeable. Allows duplicate members.\n",
    "Set is a collection which is unordered, unchangeable*, and unindexed. No duplicate members.\n",
    "Dictionary is a collection which is ordered** and changeable. No duplicate members."
   ]
  },
  {
   "cell_type": "code",
   "execution_count": null,
   "id": "98ba7a1b",
   "metadata": {},
   "outputs": [],
   "source": []
  },
  {
   "cell_type": "markdown",
   "id": "773468e5",
   "metadata": {},
   "source": [
    "Dictionaries cannot have two of the same keys and can be changed \n",
    "\n",
    "To get itens from a dict you can use the get method: dictname.get('key')\n",
    "\n",
    "Changing items in a dict: dictname[key1] = key2 changes key 1 to key 2"
   ]
  },
  {
   "cell_type": "code",
   "execution_count": 156,
   "id": "4761ee5e",
   "metadata": {},
   "outputs": [
    {
     "name": "stdout",
     "output_type": "stream",
     "text": [
      "{'key1': 'value1', 'key2': 'value2', 'key3': 'value3'}\n",
      "True\n",
      "key4\n"
     ]
    }
   ],
   "source": [
    "dict1 = {'key1': 'value1','key2': 'value2','key3': 'value3'}\n",
    "\n",
    "print(dict1)\n",
    "dict1['key2'] = 'key4'\n",
    "print(dict1['key2']== 'key4')\n",
    "print(dict1['key2'])"
   ]
  },
  {
   "cell_type": "markdown",
   "id": "01c53110",
   "metadata": {},
   "source": [
    "update or add to dict method uses simple match: x.update{key:value} key being the indexing item and value being the changed item \n",
    "\n",
    "Removing dict items uses pop() method: x.pop('key')\n",
    "\n",
    "delete uses a simple syntax:  del ['key']"
   ]
  },
  {
   "cell_type": "code",
   "execution_count": null,
   "id": "2339ff11",
   "metadata": {},
   "outputs": [],
   "source": [
    "# python loop for dict\n",
    "\n",
    "#values only\n",
    "for y in x.values: \n",
    "    print(y)\n",
    "\n",
    "# key and value\n",
    "for x,y in x.items():\n",
    "    print(x,y)\n",
    "\n",
    "#keys only \n",
    "for y in x.keys():\n",
    "    print(y)\n",
    "\n",
    "#making copies\n",
    "\n",
    "y=dict(x)\n",
    "\n",
    "y =x.copy()"
   ]
  },
  {
   "cell_type": "code",
   "execution_count": null,
   "id": "849a4854",
   "metadata": {},
   "outputs": [],
   "source": [
    "# listing through nest items in a dictionary\n",
    "\n",
    "for x, obj in objname.items():\n",
    "    print(x)\n",
    "    for y in obj:\n",
    "        print(y + ':', obj[y])\n",
    "\n"
   ]
  },
  {
   "cell_type": "markdown",
   "id": "ea195a58",
   "metadata": {},
   "source": [
    "Short hand else statements \n",
    "\n",
    "print(\"YES\") if a == b else print(\"NO\")"
   ]
  }
 ],
 "metadata": {
  "kernelspec": {
   "display_name": "Python 3",
   "language": "python",
   "name": "python3"
  },
  "language_info": {
   "codemirror_mode": {
    "name": "ipython",
    "version": 3
   },
   "file_extension": ".py",
   "mimetype": "text/x-python",
   "name": "python",
   "nbconvert_exporter": "python",
   "pygments_lexer": "ipython3",
   "version": "3.14.0"
  }
 },
 "nbformat": 4,
 "nbformat_minor": 5
}
